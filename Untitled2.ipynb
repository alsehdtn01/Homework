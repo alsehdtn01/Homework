{
  "nbformat": 4,
  "nbformat_minor": 0,
  "metadata": {
    "colab": {
      "name": "Untitled2.ipynb",
      "provenance": [],
      "include_colab_link": true
    },
    "kernelspec": {
      "name": "python3",
      "display_name": "Python 3"
    }
  },
  "cells": [
    {
      "cell_type": "markdown",
      "metadata": {
        "id": "view-in-github",
        "colab_type": "text"
      },
      "source": [
        "<a href=\"https://colab.research.google.com/github/alsehdtn01/Homework/blob/master/Untitled2.ipynb\" target=\"_parent\"><img src=\"https://colab.research.google.com/assets/colab-badge.svg\" alt=\"Open In Colab\"/></a>"
      ]
    },
    {
      "cell_type": "code",
      "metadata": {
        "id": "MwAvnCbINR_T",
        "colab_type": "code",
        "colab": {}
      },
      "source": [
        "nu = int(input())\n",
        "\n",
        "for i in range(1,10):\n",
        "  gu = nu*i\n",
        "  print(gu)"
      ],
      "execution_count": 0,
      "outputs": []
    }
  ]
}