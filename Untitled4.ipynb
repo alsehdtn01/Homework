{
  "nbformat": 4,
  "nbformat_minor": 0,
  "metadata": {
    "colab": {
      "name": "Untitled4.ipynb",
      "provenance": [],
      "include_colab_link": true
    },
    "kernelspec": {
      "name": "python3",
      "display_name": "Python 3"
    }
  },
  "cells": [
    {
      "cell_type": "markdown",
      "metadata": {
        "id": "view-in-github",
        "colab_type": "text"
      },
      "source": [
        "<a href=\"https://colab.research.google.com/github/alsehdtn01/Homework/blob/master/Untitled4.ipynb\" target=\"_parent\"><img src=\"https://colab.research.google.com/assets/colab-badge.svg\" alt=\"Open In Colab\"/></a>"
      ]
    },
    {
      "cell_type": "code",
      "metadata": {
        "id": "lv_Ny_2wSHGj",
        "colab_type": "code",
        "colab": {
          "base_uri": "https://localhost:8080/",
          "height": 197
        },
        "outputId": "de447dbb-bfff-4ae5-f1ab-a2bfdd48b9cf"
      },
      "source": [
        "nu = int(input())\n",
        "\n",
        "for i in range(1,10):\n",
        "  gu = nu*i\n",
        "  print(gu)"
      ],
      "execution_count": 2,
      "outputs": [
        {
          "output_type": "stream",
          "text": [
            "1\n",
            "1\n",
            "2\n",
            "3\n",
            "4\n",
            "5\n",
            "6\n",
            "7\n",
            "8\n",
            "9\n"
          ],
          "name": "stdout"
        }
      ]
    },
    {
      "cell_type": "code",
      "metadata": {
        "id": "mkz4faeXS88T",
        "colab_type": "code",
        "colab": {
          "base_uri": "https://localhost:8080/",
          "height": 35
        },
        "outputId": "fa7bf1f7-3486-4377-e30d-6f8685006f28"
      },
      "source": [
        "%timeit gu"
      ],
      "execution_count": 5,
      "outputs": [
        {
          "output_type": "stream",
          "text": [
            "100000000 loops, best of 3: 18.1 ns per loop\n"
          ],
          "name": "stdout"
        }
      ]
    },
    {
      "cell_type": "code",
      "metadata": {
        "id": "c0nA4HD7SqJp",
        "colab_type": "code",
        "colab": {
          "base_uri": "https://localhost:8080/",
          "height": 71
        },
        "outputId": "8bdd65f0-686d-439e-f97c-17caded68a6e"
      },
      "source": [
        "import numpy as np\n",
        "n = int(input('숫자를 입력하세요 : '))\n",
        "a = np.arange(1,10)\n",
        "\n",
        "gu = n*a\n",
        "print(n,'의 구구단')\n",
        "print(n*a)"
      ],
      "execution_count": 3,
      "outputs": [
        {
          "output_type": "stream",
          "text": [
            "숫자를 입력하세요 : 1\n",
            "1 의 구구단\n",
            "[1 2 3 4 5 6 7 8 9]\n"
          ],
          "name": "stdout"
        }
      ]
    },
    {
      "cell_type": "code",
      "metadata": {
        "id": "KFGZ_gRMTZqC",
        "colab_type": "code",
        "colab": {
          "base_uri": "https://localhost:8080/",
          "height": 35
        },
        "outputId": "2dcb8db6-f3c4-40ab-a34e-c117035f2185"
      },
      "source": [
        "%timeit gu"
      ],
      "execution_count": 6,
      "outputs": [
        {
          "output_type": "stream",
          "text": [
            "10000000 loops, best of 3: 18.1 ns per loop\n"
          ],
          "name": "stdout"
        }
      ]
    },
    {
      "cell_type": "code",
      "metadata": {
        "id": "9nI3fzuQcJLh",
        "colab_type": "code",
        "colab": {
          "base_uri": "https://localhost:8080/",
          "height": 53
        },
        "outputId": "e5d81cb3-26e8-4751-9069-48cf9447b486"
      },
      "source": [
        "!find / -iname 'libdevice'\n",
        "!find / -iname 'libnvvm.so'"
      ],
      "execution_count": 41,
      "outputs": [
        {
          "output_type": "stream",
          "text": [
            "/usr/local/cuda-10.1/nvvm/libdevice\n",
            "/usr/local/cuda-10.1/nvvm/lib64/libnvvm.so\n"
          ],
          "name": "stdout"
        }
      ]
    },
    {
      "cell_type": "code",
      "metadata": {
        "id": "UXj9xZsLTqAZ",
        "colab_type": "code",
        "colab": {}
      },
      "source": [
        "import numpy as np\n",
        "import numba\n",
        "from numba import vectorize\n",
        "import os\n",
        "os.environ['NUMBAPRO_LIBDEVICE'] = \"/usr/local/cuda-10.1/nvvm/libdevice\"\n",
        "os.environ['NUMBAPRO_NVVM'] = \"/usr/local/cuda-10.1/nvvm/lib64/libnvvm.so\"\n",
        "\n",
        "\n",
        "numpy_list = np.arange(1,10)\n",
        "\n",
        "def normal_gugudan(x):\n",
        "  return numpy_list*x\n",
        "\n",
        "def numpy_gugudan(x):\n",
        "  return np.multiply(numpy_list, x)\n",
        "\n",
        "@numba.jit\n",
        "def numba_gugudan(x):\n",
        "  return np.multiply(numpy_list, x)\n",
        "\n",
        "@vectorize(['int64(int64, int64)'], target='cuda')\n",
        "def cuda_gugudan(x,y):\n",
        "  return x*y\n",
        "\n",
        "\n"
      ],
      "execution_count": 0,
      "outputs": []
    },
    {
      "cell_type": "code",
      "metadata": {
        "id": "__Pb8E3kgRlh",
        "colab_type": "code",
        "colab": {
          "base_uri": "https://localhost:8080/",
          "height": 35
        },
        "outputId": "4a715a5d-a631-4a79-a0fb-97069c52f537"
      },
      "source": [
        "normal_gugudan(2)"
      ],
      "execution_count": 72,
      "outputs": [
        {
          "output_type": "execute_result",
          "data": {
            "text/plain": [
              "array([ 2,  4,  6,  8, 10, 12, 14, 16, 18])"
            ]
          },
          "metadata": {
            "tags": []
          },
          "execution_count": 72
        }
      ]
    },
    {
      "cell_type": "code",
      "metadata": {
        "id": "4k7AVYVBff_x",
        "colab_type": "code",
        "colab": {
          "base_uri": "https://localhost:8080/",
          "height": 89
        },
        "outputId": "411782a0-48ef-4e4f-9f2e-162892068786"
      },
      "source": [
        "n = int(input('숫자를 입력해주세요 : '))\n",
        "normal_gugudan(n)\n",
        "numpy_gugudan(n)\n",
        "numba_gugudan(n)\n",
        "\n",
        "%timeit normal_gugudan\n",
        "%timeit numpy_gugudan\n",
        "%timeit numba_gugudan"
      ],
      "execution_count": 67,
      "outputs": [
        {
          "output_type": "stream",
          "text": [
            "숫자를 입력해주세요 : 2\n",
            "100000000 loops, best of 3: 17 ns per loop\n",
            "10000000 loops, best of 3: 20.3 ns per loop\n",
            "100000000 loops, best of 3: 18.5 ns per loop\n"
          ],
          "name": "stdout"
        }
      ]
    },
    {
      "cell_type": "code",
      "metadata": {
        "id": "QwLtVNzbcnp0",
        "colab_type": "code",
        "colab": {
          "base_uri": "https://localhost:8080/",
          "height": 181
        },
        "outputId": "d2344ef4-e551-4987-d0d5-2ed895f4c6a3"
      },
      "source": [
        "print('Normal time')\n",
        "%timeit normal_gugudan\n",
        "\n",
        "print('Numpy time')\n",
        "%timeit numpy_gugudan\n",
        "\n",
        "print('Numba time')\n",
        "%timeit numba_gugudan"
      ],
      "execution_count": 73,
      "outputs": [
        {
          "output_type": "stream",
          "text": [
            "Normal time\n",
            "The slowest run took 62.06 times longer than the fastest. This could mean that an intermediate result is being cached.\n",
            "100000000 loops, best of 3: 16.7 ns per loop\n",
            "Numpy time\n",
            "The slowest run took 51.69 times longer than the fastest. This could mean that an intermediate result is being cached.\n",
            "10000000 loops, best of 3: 20.4 ns per loop\n",
            "Numba time\n",
            "100000000 loops, best of 3: 18.6 ns per loop\n"
          ],
          "name": "stdout"
        }
      ]
    },
    {
      "cell_type": "markdown",
      "metadata": {
        "id": "hWD55xISdDle",
        "colab_type": "text"
      },
      "source": [
        ""
      ]
    }
  ]
}