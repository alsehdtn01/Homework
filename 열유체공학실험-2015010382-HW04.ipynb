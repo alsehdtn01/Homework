{
  "nbformat": 4,
  "nbformat_minor": 0,
  "metadata": {
    "colab": {
      "name": "Untitled4.ipynb",
      "provenance": [],
      "include_colab_link": true
    },
    "kernelspec": {
      "name": "python3",
      "display_name": "Python 3"
    }
  },
  "cells": [
    {
      "cell_type": "markdown",
      "metadata": {
        "id": "view-in-github",
        "colab_type": "text"
      },
      "source": [
        "<a href=\"https://colab.research.google.com/github/alsehdtn01/Homework/blob/master/%EC%97%B4%EC%9C%A0%EC%B2%B4%EA%B3%B5%ED%95%99%EC%8B%A4%ED%97%98-2015010382-HW04.ipynb\" target=\"_parent\"><img src=\"https://colab.research.google.com/assets/colab-badge.svg\" alt=\"Open In Colab\"/></a>"
      ]
    },
    {
      "cell_type": "code",
      "metadata": {
        "id": "9nI3fzuQcJLh",
        "colab_type": "code",
        "colab": {}
      },
      "source": [
        "!find / -iname 'libdevice'\n",
        "!find / -iname 'libnvvm.so'"
      ],
      "execution_count": 0,
      "outputs": []
    },
    {
      "cell_type": "code",
      "metadata": {
        "id": "UXj9xZsLTqAZ",
        "colab_type": "code",
        "colab": {}
      },
      "source": [
        "import numpy as np\n",
        "import numba\n",
        "from numba import vectorize\n",
        "import os\n",
        "os.environ['NUMBAPRO_LIBDEVICE'] = \"/usr/local/cuda-10.1/nvvm/libdevice\"\n",
        "os.environ['NUMBAPRO_NVVM'] = \"/usr/local/cuda-10.1/nvvm/lib64/libnvvm.so\"\n",
        "\n",
        "\n",
        "numpy_list = np.arange(1,10)\n",
        "\n",
        "def normal_gugudan(x):\n",
        "  return numpy_list*x\n",
        "\n",
        "def numpy_gugudan(x):\n",
        "  return np.multiply(numpy_list, x)\n",
        "\n",
        "@numba.jit\n",
        "def numba_gugudan(x):\n",
        "  return np.multiply(numpy_list, x)\n",
        "\n",
        "@vectorize(['int64(int64, int64)'], target='cuda')\n",
        "def cuda_gugudan(x,y):\n",
        "  return x*y\n"
      ],
      "execution_count": 0,
      "outputs": []
    },
    {
      "cell_type": "code",
      "metadata": {
        "id": "4k7AVYVBff_x",
        "colab_type": "code",
        "colab": {}
      },
      "source": [
        "n = int(input('숫자를 입력해주세요 : '))\n",
        "normal_gugudan(n)\n",
        "numpy_gugudan(n)\n",
        "numba_gugudan(n)\n",
        "cuda_gugudan(n,numpy_list)"
      ],
      "execution_count": 0,
      "outputs": []
    },
    {
      "cell_type": "code",
      "metadata": {
        "id": "QwLtVNzbcnp0",
        "colab_type": "code",
        "colab": {}
      },
      "source": [
        "print('Normal time')\n",
        "%timeit normal_gugudan\n",
        "\n",
        "print('Numpy time')\n",
        "%timeit numpy_gugudan\n",
        "\n",
        "print('Numba time')\n",
        "%timeit numba_gugudan\n",
        "\n",
        "print('Cuda time')\n",
        "%timeit cuda_gugudan"
      ],
      "execution_count": 0,
      "outputs": []
    },
    {
      "cell_type": "markdown",
      "metadata": {
        "id": "hWD55xISdDle",
        "colab_type": "text"
      },
      "source": [
        ""
      ]
    }
  ]
}